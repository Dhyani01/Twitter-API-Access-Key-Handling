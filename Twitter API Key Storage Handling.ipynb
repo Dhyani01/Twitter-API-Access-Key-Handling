{
 "cells": [
  {
   "cell_type": "code",
   "execution_count": 28,
   "id": "fb1779e0",
   "metadata": {},
   "outputs": [],
   "source": [
    "import json\n",
    "import tweepy"
   ]
  },
  {
   "cell_type": "code",
   "execution_count": 29,
   "id": "042d3d55",
   "metadata": {},
   "outputs": [],
   "source": [
    "# Loading Keys from json to Variables\n",
    "f = open('key.json',)\n",
    "with open('key.json',) as f:\n",
    "    data = json.load(f)\n",
    "    \n",
    "API_KEY = data['API_KEY']\n",
    "API_SECRET_KEY = data['API_SECRET_KEY']\n",
    "ACCESS_TOKEN = data['ACCESS_TOKEN']\n",
    "ACCESS_TOKEN_SECRET = data['ACCESS_TOKEN_SECRET']\n"
   ]
  },
  {
   "cell_type": "code",
   "execution_count": 30,
   "id": "e72779cb",
   "metadata": {},
   "outputs": [
    {
     "name": "stdout",
     "output_type": "stream",
     "text": [
      "RT @kunalb11: Young folks in India are happy working from their native home &amp; saving cost of rent and getting home food.\n",
      "\n",
      "This is a fantast…\n",
      "RT @khushbooverma_: Do good and it will come back to you in unexpected ways 💜💫\n",
      "RT @_workchronicles: Compensation https://t.co/kEJhHe3B9M\n",
      "RT @akshaymarch7: Sometimes the best solution to a problem is to let it be unsolved.\n",
      "RT @flyingbeast320: @BhaiiSamrat Once they enter, they will abuse article 21 (our apex court will grant it) then demand voting rights and l…\n",
      "RT @github: 🤫  New shortcut: Press . on any GitHub repo. https://t.co/AHTSDot4qc\n",
      "RT @warikoo: Two things that will keep you going forever \n",
      "\n",
      "Hope and patience\n",
      "RT @Neeraj_chopra1: https://t.co/wxwKoK6SiO\n",
      "RT @bhash: Ground zero! ❤️ #jointherevolution https://t.co/lzUzbWbFl7 @OlaElectric https://t.co/MUc2h02vPs\n",
      "RT @bhavintu: Grateful to be in tech. The world is my office!\n",
      "RT @anandmahindra: No matter how this scooter ultimately fares, it is exciting to see courage &amp; risk-taking being rewarded.  The more entre…\n",
      "RT @kunalb11: Teams are productive when they’re sharing useful information. \n",
      "\n",
      "Teams are bonding when they’re sharing useless information.…\n",
      "RT @DankRishu: Showing clips of other YouTubers comes under cyberbullying? @YouTube @YouTubeIndia what even? https://t.co/I8O5RPSUAd\n",
      "RT @SharmaShradha: This is the story of @zomato that we wrote on 12th December 2008. 13 years back :-) And today, let’s congratulate @deepi…\n",
      "RT @thetanmay: A thread about fintech🧵\n",
      "RT @kunalb11: https://t.co/3Azy3Unwgs\n",
      "RT @tanviprya: Don’t build your startups for VC. Build it for your customer. \n",
      "\n",
      "Simple advice. Often overlooked.\n",
      "RT @pradologue: THREAD: Most qualified person in India 🙌\n",
      "RT @vijayshekhar: 10 years before. Even before @Paytm had an app ! https://t.co/pwcX95nEcr\n"
     ]
    }
   ],
   "source": [
    "# This is the meat of the script that drives the twitterbot\n",
    "auth = tweepy.OAuthHandler(API_KEY, API_SECRET_KEY)\n",
    "auth.set_access_token(ACCESS_TOKEN, ACCESS_TOKEN_SECRET)\n",
    "api = tweepy.API(auth)\n",
    "public_tweets = api.home_timeline()\n",
    "for tweet in public_tweets:\n",
    "    print(tweet.text)\n"
   ]
  },
  {
   "cell_type": "code",
   "execution_count": null,
   "id": "5f98ebba",
   "metadata": {},
   "outputs": [],
   "source": []
  }
 ],
 "metadata": {
  "kernelspec": {
   "display_name": "Python 3.7 (tensorflow)",
   "language": "python",
   "name": "tensorflow"
  },
  "language_info": {
   "codemirror_mode": {
    "name": "ipython",
    "version": 3
   },
   "file_extension": ".py",
   "mimetype": "text/x-python",
   "name": "python",
   "nbconvert_exporter": "python",
   "pygments_lexer": "ipython3",
   "version": "3.7.11"
  }
 },
 "nbformat": 4,
 "nbformat_minor": 5
}
